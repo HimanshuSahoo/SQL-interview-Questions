{
  "cells": [
    {
      "cell_type": "markdown",
      "metadata": {
        "id": "view-in-github",
        "colab_type": "text"
      },
      "source": [
        "<a href=\"https://colab.research.google.com/github/HimanshuSahoo/SQL-interview-Questions/blob/main/python_connection_to_SQL_DB.ipynb\" target=\"_parent\"><img src=\"https://colab.research.google.com/assets/colab-badge.svg\" alt=\"Open In Colab\"/></a>"
      ]
    },
    {
      "cell_type": "code",
      "execution_count": null,
      "id": "e90be528",
      "metadata": {
        "id": "e90be528"
      },
      "outputs": [],
      "source": [
        "import pandas as pd\n",
        "import seaborn as sns\n",
        "import plotly.express as px\n",
        "import numpy as np\n",
        "import plotly.graph_objects as go\n",
        "import math\n",
        "import pymysql\n",
        "pd.set_option('display.max_column', None)"
      ]
    },
    {
      "cell_type": "code",
      "execution_count": null,
      "id": "4092c45a",
      "metadata": {
        "id": "4092c45a"
      },
      "outputs": [],
      "source": [
        "!pip install pymysql"
      ]
    },
    {
      "cell_type": "code",
      "execution_count": null,
      "id": "e9c9de77",
      "metadata": {
        "id": "e9c9de77"
      },
      "outputs": [],
      "source": [
        "dbcon = pymysql.connect(host=\"localhost\",user= \"root\",password= \"root\",database= \"breast_cancer_db\")"
      ]
    },
    {
      "cell_type": "code",
      "execution_count": null,
      "id": "d655cd8a",
      "metadata": {
        "id": "d655cd8a"
      },
      "outputs": [],
      "source": [
        "dbcon"
      ]
    },
    {
      "cell_type": "markdown",
      "id": "d9e74e0b",
      "metadata": {
        "id": "d9e74e0b"
      },
      "source": [
        "## Example for loading the data from My SQL"
      ]
    },
    {
      "cell_type": "code",
      "execution_count": null,
      "id": "558093ae",
      "metadata": {
        "id": "558093ae"
      },
      "outputs": [],
      "source": [
        "pd.read_sql_query(\"\"\"select * from breast_cancer where diagnosis=1 \"\"\", dbcon, parse_dates= True)"
      ]
    },
    {
      "cell_type": "code",
      "execution_count": null,
      "id": "450e60dd",
      "metadata": {
        "id": "450e60dd"
      },
      "outputs": [],
      "source": [
        "diagnose='0'"
      ]
    },
    {
      "cell_type": "code",
      "execution_count": null,
      "id": "394d059e",
      "metadata": {
        "id": "394d059e"
      },
      "outputs": [],
      "source": [
        "pd.read_sql_query(\"\"\"select * from breast_cancer where diagnosis= '\"\"\"+diagnose+\"\"\"' \"\"\", dbcon, parse_dates= True)"
      ]
    },
    {
      "cell_type": "code",
      "execution_count": null,
      "id": "25921513",
      "metadata": {
        "id": "25921513"
      },
      "outputs": [],
      "source": [
        "diagnosis='1'"
      ]
    },
    {
      "cell_type": "code",
      "execution_count": null,
      "id": "1170f1c8",
      "metadata": {
        "id": "1170f1c8"
      },
      "outputs": [],
      "source": [
        "pd.read_sql_query(\"\"\"select * from breast_cancer where diagnosis= '\"\"\"+diagnose+\"\"\"' and mean_texture >20 \"\"\", dbcon, parse_dates= True)"
      ]
    },
    {
      "cell_type": "markdown",
      "id": "e28ef2e3",
      "metadata": {
        "id": "e28ef2e3"
      },
      "source": [
        "## Loading the data for EDA and Model training"
      ]
    },
    {
      "cell_type": "code",
      "execution_count": null,
      "id": "02b31424",
      "metadata": {
        "id": "02b31424"
      },
      "outputs": [],
      "source": [
        "df= pd.read_sql_query(\"\"\"select * from breast_cancer\"\"\", dbcon, parse_dates= True)"
      ]
    },
    {
      "cell_type": "code",
      "execution_count": null,
      "id": "bbd90c1e",
      "metadata": {
        "id": "bbd90c1e"
      },
      "outputs": [],
      "source": [
        "df.head(5)"
      ]
    },
    {
      "cell_type": "code",
      "execution_count": null,
      "id": "22dfd7e8",
      "metadata": {
        "id": "22dfd7e8"
      },
      "outputs": [],
      "source": [
        "df.info()"
      ]
    },
    {
      "cell_type": "code",
      "execution_count": null,
      "id": "a1aa71f2",
      "metadata": {
        "id": "a1aa71f2"
      },
      "outputs": [],
      "source": [
        "df.describe()"
      ]
    },
    {
      "cell_type": "code",
      "execution_count": null,
      "id": "8e5c7ac1",
      "metadata": {
        "id": "8e5c7ac1"
      },
      "outputs": [],
      "source": [
        "# shape of the dataframe\n",
        "df.shape"
      ]
    },
    {
      "cell_type": "code",
      "execution_count": null,
      "id": "c7c9d190",
      "metadata": {
        "id": "c7c9d190"
      },
      "outputs": [],
      "source": [
        "# checking the null values in the dataframe\n",
        "df.isnull().sum()"
      ]
    },
    {
      "cell_type": "code",
      "execution_count": null,
      "id": "28d7a36d",
      "metadata": {
        "id": "28d7a36d"
      },
      "outputs": [],
      "source": [
        "df.info()"
      ]
    },
    {
      "cell_type": "code",
      "execution_count": null,
      "id": "f62b7254",
      "metadata": {
        "id": "f62b7254"
      },
      "outputs": [],
      "source": [
        "df.describe()"
      ]
    },
    {
      "cell_type": "markdown",
      "id": "66adb30a",
      "metadata": {
        "id": "66adb30a"
      },
      "source": [
        "## EDA"
      ]
    },
    {
      "cell_type": "code",
      "execution_count": null,
      "id": "ca0d14ee",
      "metadata": {
        "id": "ca0d14ee"
      },
      "outputs": [],
      "source": [
        "sns.countplot(x=\"diagnosis\", data=df)"
      ]
    },
    {
      "cell_type": "code",
      "execution_count": null,
      "id": "41acd55c",
      "metadata": {
        "id": "41acd55c"
      },
      "outputs": [],
      "source": [
        "sns.pairplot(df, hue=\"diagnosis\")"
      ]
    },
    {
      "cell_type": "code",
      "execution_count": null,
      "id": "e53a03f4",
      "metadata": {
        "id": "e53a03f4"
      },
      "outputs": [],
      "source": [
        "labels = df['diagnosis']\n",
        "values = df['mean_area']\n",
        "fig = go.Figure(data=[go.Pie(labels=labels, values=values)])\n",
        "fig.show()"
      ]
    },
    {
      "cell_type": "code",
      "execution_count": null,
      "id": "f4910ce3",
      "metadata": {
        "id": "f4910ce3"
      },
      "outputs": [],
      "source": [
        "labels = df['diagnosis']\n",
        "values = df['mean_perimeter']\n",
        "fig = go.Figure(data=[go.Pie(labels=labels, values=values)])\n",
        "fig.show()"
      ]
    },
    {
      "cell_type": "code",
      "execution_count": null,
      "id": "3e4e8c1c",
      "metadata": {
        "id": "3e4e8c1c"
      },
      "outputs": [],
      "source": [
        "labels = df['diagnosis']\n",
        "values = df['mean_texture']\n",
        "fig = go.Figure(data=[go.Pie(labels=labels, values=values)])\n",
        "fig.show()"
      ]
    },
    {
      "cell_type": "code",
      "execution_count": null,
      "id": "95759ecd",
      "metadata": {
        "id": "95759ecd"
      },
      "outputs": [],
      "source": [
        "sns.distplot( df[\"mean_area\"] )"
      ]
    },
    {
      "cell_type": "markdown",
      "id": "e4ec157a",
      "metadata": {
        "id": "e4ec157a"
      },
      "source": [
        "## Model Training"
      ]
    },
    {
      "cell_type": "code",
      "execution_count": null,
      "id": "454a8451",
      "metadata": {
        "id": "454a8451"
      },
      "outputs": [],
      "source": [
        "x = df.drop(columns=['diagnosis'])\n",
        "y = df['diagnosis']"
      ]
    },
    {
      "cell_type": "code",
      "execution_count": null,
      "id": "c95e183b",
      "metadata": {
        "id": "c95e183b"
      },
      "outputs": [],
      "source": [
        "from sklearn.metrics import accuracy_score\n",
        "from sklearn.model_selection import train_test_split"
      ]
    },
    {
      "cell_type": "code",
      "execution_count": null,
      "id": "3c526114",
      "metadata": {
        "id": "3c526114"
      },
      "outputs": [],
      "source": [
        "x_train, x_test, y_train, y_test = train_test_split(x, y, test_size=0.2, random_state=4)"
      ]
    },
    {
      "cell_type": "code",
      "execution_count": null,
      "id": "654c1dd9",
      "metadata": {
        "id": "654c1dd9"
      },
      "outputs": [],
      "source": [
        "from sklearn import model_selection\n",
        "from sklearn.ensemble import RandomForestClassifier\n",
        "from sklearn.metrics import accuracy_score\n",
        "# random forest model creation\n",
        "rfc = RandomForestClassifier()\n",
        "rfc.fit(x_train,y_train)\n",
        "# predictions\n",
        "rfc_predict = rfc.predict(x_test)\n",
        "\n",
        "print(\"Accuracy:\",accuracy_score(y_test, rfc_predict))"
      ]
    },
    {
      "cell_type": "markdown",
      "id": "fc10de29",
      "metadata": {
        "id": "fc10de29"
      },
      "source": [
        "## Reading multiple tables"
      ]
    },
    {
      "cell_type": "code",
      "execution_count": null,
      "id": "b3009a71",
      "metadata": {
        "id": "b3009a71"
      },
      "outputs": [],
      "source": [
        "dbcon = pymysql.connect(host=\"localhost\",user= \"root\",password= \"root\",database= \"classicmodels\")"
      ]
    },
    {
      "cell_type": "code",
      "execution_count": null,
      "id": "961f36f2",
      "metadata": {
        "id": "961f36f2"
      },
      "outputs": [],
      "source": [
        "df1 = pd.read_sql_query(\"\"\"select * from products \"\"\", dbcon, parse_dates= True)"
      ]
    },
    {
      "cell_type": "code",
      "execution_count": null,
      "id": "16ad9f08",
      "metadata": {
        "id": "16ad9f08"
      },
      "outputs": [],
      "source": [
        "df1.head(5)"
      ]
    },
    {
      "cell_type": "code",
      "execution_count": null,
      "id": "ac4e8c9e",
      "metadata": {
        "id": "ac4e8c9e"
      },
      "outputs": [],
      "source": [
        "df2 = pd.read_sql_query(\"\"\"select * from productLines \"\"\", dbcon, parse_dates= True)"
      ]
    },
    {
      "cell_type": "code",
      "execution_count": null,
      "id": "bfed1633",
      "metadata": {
        "id": "bfed1633"
      },
      "outputs": [],
      "source": [
        "df2.head(5)"
      ]
    },
    {
      "cell_type": "code",
      "execution_count": null,
      "id": "68923dea",
      "metadata": {
        "id": "68923dea"
      },
      "outputs": [],
      "source": [
        "final_df = pd.merge(df1, df2, on='productLine', how='inner')"
      ]
    },
    {
      "cell_type": "code",
      "execution_count": null,
      "id": "f6b957f9",
      "metadata": {
        "id": "f6b957f9"
      },
      "outputs": [],
      "source": [
        "final_df.head(5)"
      ]
    },
    {
      "cell_type": "code",
      "execution_count": null,
      "id": "346d2219",
      "metadata": {
        "id": "346d2219"
      },
      "outputs": [],
      "source": [
        "df = pd.read_sql_query(\"\"\"select a.productCode, a.productName, a.MSRP, b.productLine, b.textDescription\n",
        "from products a, productlines b\n",
        "where a.productLine = b.productLine \"\"\", dbcon, parse_dates= True)"
      ]
    },
    {
      "cell_type": "code",
      "execution_count": null,
      "id": "5ad2de5f",
      "metadata": {
        "id": "5ad2de5f"
      },
      "outputs": [],
      "source": [
        "df.head(5)"
      ]
    },
    {
      "cell_type": "code",
      "execution_count": null,
      "id": "a55ca0ff",
      "metadata": {
        "id": "a55ca0ff"
      },
      "outputs": [],
      "source": [
        "df1 = pd.read_sql_query(\"\"\"select productCode, productName, MSRP, productLine\n",
        "from products \"\"\", dbcon, parse_dates= True)"
      ]
    },
    {
      "cell_type": "code",
      "execution_count": null,
      "id": "09b8cf5b",
      "metadata": {
        "id": "09b8cf5b"
      },
      "outputs": [],
      "source": [
        "df2 = pd.read_sql_query(\"\"\"select productLine, textDescription\n",
        "from productlines \"\"\", dbcon, parse_dates= True)"
      ]
    },
    {
      "cell_type": "code",
      "execution_count": null,
      "id": "ab45f51a",
      "metadata": {
        "id": "ab45f51a"
      },
      "outputs": [],
      "source": [
        "df1.head(5)"
      ]
    },
    {
      "cell_type": "code",
      "execution_count": null,
      "id": "5eec660c",
      "metadata": {
        "id": "5eec660c"
      },
      "outputs": [],
      "source": [
        "df2.head(5)"
      ]
    },
    {
      "cell_type": "code",
      "execution_count": null,
      "id": "cd7639f8",
      "metadata": {
        "id": "cd7639f8"
      },
      "outputs": [],
      "source": [
        "new_df = df1.merge(df2, how='inner', on='productLine')"
      ]
    },
    {
      "cell_type": "code",
      "execution_count": null,
      "id": "2b66b2da",
      "metadata": {
        "id": "2b66b2da"
      },
      "outputs": [],
      "source": [
        "new_df.head(5)"
      ]
    }
  ],
  "metadata": {
    "kernelspec": {
      "display_name": "Python 3",
      "language": "python",
      "name": "python3"
    },
    "language_info": {
      "codemirror_mode": {
        "name": "ipython",
        "version": 3
      },
      "file_extension": ".py",
      "mimetype": "text/x-python",
      "name": "python",
      "nbconvert_exporter": "python",
      "pygments_lexer": "ipython3",
      "version": "3.8.8"
    },
    "toc": {
      "base_numbering": 1,
      "nav_menu": {},
      "number_sections": true,
      "sideBar": true,
      "skip_h1_title": false,
      "title_cell": "Table of Contents",
      "title_sidebar": "Contents",
      "toc_cell": false,
      "toc_position": {},
      "toc_section_display": true,
      "toc_window_display": false
    },
    "varInspector": {
      "cols": {
        "lenName": 16,
        "lenType": 16,
        "lenVar": 40
      },
      "kernels_config": {
        "python": {
          "delete_cmd_postfix": "",
          "delete_cmd_prefix": "del ",
          "library": "var_list.py",
          "varRefreshCmd": "print(var_dic_list())"
        },
        "r": {
          "delete_cmd_postfix": ") ",
          "delete_cmd_prefix": "rm(",
          "library": "var_list.r",
          "varRefreshCmd": "cat(var_dic_list()) "
        }
      },
      "types_to_exclude": [
        "module",
        "function",
        "builtin_function_or_method",
        "instance",
        "_Feature"
      ],
      "window_display": false
    },
    "colab": {
      "name": "python connection to SQL DB.ipynb",
      "provenance": [],
      "include_colab_link": true
    }
  },
  "nbformat": 4,
  "nbformat_minor": 5
}