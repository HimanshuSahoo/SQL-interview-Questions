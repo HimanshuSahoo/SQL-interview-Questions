{
  "cells": [
    {
      "cell_type": "markdown",
      "metadata": {
        "id": "view-in-github",
        "colab_type": "text"
      },
      "source": [
        "<a href=\"https://colab.research.google.com/github/HimanshuSahoo/SQL-interview-Questions/blob/main/2_Creating_Tables_And_Inserting_Records.ipynb\" target=\"_parent\"><img src=\"https://colab.research.google.com/assets/colab-badge.svg\" alt=\"Open In Colab\"/></a>"
      ]
    },
    {
      "cell_type": "markdown",
      "id": "7865e50f",
      "metadata": {
        "id": "7865e50f"
      },
      "source": [
        "## Tutorial 3- Creating Tables And Inserting Records"
      ]
    },
    {
      "cell_type": "code",
      "execution_count": null,
      "id": "02fad4c1",
      "metadata": {
        "id": "02fad4c1",
        "outputId": "f33f38e1-42da-4c60-9b10-a21834e16f84"
      },
      "outputs": [
        {
          "ename": "ModuleNotFoundError",
          "evalue": "No module named 'mysql'",
          "output_type": "error",
          "traceback": [
            "\u001b[1;31m---------------------------------------------------------------------------\u001b[0m",
            "\u001b[1;31mModuleNotFoundError\u001b[0m                       Traceback (most recent call last)",
            "\u001b[1;32m<ipython-input-2-c15c4954518c>\u001b[0m in \u001b[0;36m<module>\u001b[1;34m\u001b[0m\n\u001b[0;32m      1\u001b[0m \u001b[1;31m### Create MySQL Connection And Connect\u001b[0m\u001b[1;33m\u001b[0m\u001b[1;33m\u001b[0m\u001b[1;33m\u001b[0m\u001b[0m\n\u001b[1;32m----> 2\u001b[1;33m \u001b[1;32mimport\u001b[0m \u001b[0mmysql\u001b[0m\u001b[1;33m.\u001b[0m\u001b[0mconnector\u001b[0m \u001b[1;32mas\u001b[0m \u001b[0msql\u001b[0m\u001b[1;33m\u001b[0m\u001b[1;33m\u001b[0m\u001b[0m\n\u001b[0m\u001b[0;32m      3\u001b[0m \u001b[1;33m\u001b[0m\u001b[0m\n\u001b[0;32m      4\u001b[0m connection = sql.connect(\n\u001b[0;32m      5\u001b[0m   \u001b[0mhost\u001b[0m\u001b[1;33m=\u001b[0m\u001b[1;34m\"localhost\"\u001b[0m\u001b[1;33m,\u001b[0m\u001b[1;33m\u001b[0m\u001b[1;33m\u001b[0m\u001b[0m\n",
            "\u001b[1;31mModuleNotFoundError\u001b[0m: No module named 'mysql'"
          ]
        }
      ],
      "source": [
        "### Create MySQL Connection And Connect\n",
        "import mysql.connector as sql\n",
        "\n",
        "connection = sql.connect(\n",
        "  host=\"localhost\",\n",
        "  user=\"root\",\n",
        "  password=\"Chinky_1987\",\n",
        "  database=\"student\"\n",
        ")\n",
        "\n",
        "print(connection)"
      ]
    },
    {
      "cell_type": "markdown",
      "id": "bcb9945c",
      "metadata": {
        "id": "bcb9945c"
      },
      "source": [
        "## Create Table In MySQL using Python"
      ]
    },
    {
      "cell_type": "code",
      "execution_count": null,
      "id": "1badc283",
      "metadata": {
        "id": "1badc283"
      },
      "outputs": [],
      "source": [
        "cursor = connection.cursor()\n",
        "\n",
        "cursor.execute(\"CREATE TABLE studentinfo (id INT AUTO_INCREMENT PRIMARY KEY, name VARCHAR(255), subject VARCHAR(255))\")"
      ]
    },
    {
      "cell_type": "markdown",
      "id": "f5d385bd",
      "metadata": {
        "id": "f5d385bd"
      },
      "source": [
        "## Insert Records in Table"
      ]
    },
    {
      "cell_type": "code",
      "execution_count": null,
      "id": "9a7ed394",
      "metadata": {
        "id": "9a7ed394"
      },
      "outputs": [],
      "source": [
        "query = \"INSERT INTO studentinfo (name, subject) VALUES (%s, %s)\"\n",
        "value = (\"John\", \"Stats\")\n",
        "cursor.execute(query,value)\n",
        "print(\"Row inserted\",cursor.lastrowid)"
      ]
    },
    {
      "cell_type": "code",
      "execution_count": null,
      "id": "29f6de8f",
      "metadata": {
        "id": "29f6de8f"
      },
      "outputs": [],
      "source": [
        "### Insert multiple records in Table\n",
        "query = \"INSERT INTO studentinfo (name, subject) VALUES (%s, %s)\"\n",
        "values = [(\"Krish\", \"Stats\"),\n",
        "        (\"Joe\", \"Maths\"),\n",
        "        (\"Ankur\",\"Data Science\"),\n",
        "        (\"Paul\",\"Data Science\"),\n",
        "        (\"Vishal\",\"Maths\"),\n",
        "        (\"Krish\",\"Data Science\")]\n",
        "cursor.executemany(query,values)\n",
        "print(\"Row inserted\",cursor.lastrowid)"
      ]
    },
    {
      "cell_type": "markdown",
      "id": "797cead9",
      "metadata": {
        "id": "797cead9"
      },
      "source": [
        "## Select All"
      ]
    },
    {
      "cell_type": "code",
      "execution_count": null,
      "id": "3f578c4a",
      "metadata": {
        "id": "3f578c4a"
      },
      "outputs": [],
      "source": [
        "cursor = connection.cursor()\n",
        "cursor.execute(\"Select * from studentinfo\")"
      ]
    },
    {
      "cell_type": "code",
      "execution_count": null,
      "id": "499f6503",
      "metadata": {
        "id": "499f6503"
      },
      "outputs": [],
      "source": [
        "### Fetch All the Data\n",
        "cursor.fetchall()"
      ]
    },
    {
      "cell_type": "code",
      "execution_count": null,
      "id": "8e0d0f6a",
      "metadata": {
        "id": "8e0d0f6a"
      },
      "outputs": [],
      "source": [
        "### Fetch One Record At A time\n",
        "cursor.fetchone()"
      ]
    },
    {
      "cell_type": "code",
      "execution_count": null,
      "id": "29247959",
      "metadata": {
        "id": "29247959"
      },
      "outputs": [],
      "source": [
        "lst=cursor.fetchall()"
      ]
    },
    {
      "cell_type": "code",
      "execution_count": null,
      "id": "8756de02",
      "metadata": {
        "id": "8756de02"
      },
      "outputs": [],
      "source": [
        "for records in lst:\n",
        "    print(records)"
      ]
    },
    {
      "cell_type": "markdown",
      "id": "bda2b75a",
      "metadata": {
        "id": "bda2b75a"
      },
      "source": [
        "## Selecting Particular Rows"
      ]
    },
    {
      "cell_type": "code",
      "execution_count": null,
      "id": "76f38cc0",
      "metadata": {
        "id": "76f38cc0"
      },
      "outputs": [],
      "source": [
        "cursor.execute(\"Select * from studentinfo where name='Krish'\")"
      ]
    },
    {
      "cell_type": "code",
      "execution_count": null,
      "id": "4396cf7a",
      "metadata": {
        "id": "4396cf7a"
      },
      "outputs": [],
      "source": [
        "### Fetch All the Data\n",
        "cursor.fetchall()"
      ]
    },
    {
      "cell_type": "markdown",
      "id": "65f8afe3",
      "metadata": {
        "id": "65f8afe3"
      },
      "source": [
        "## Select Particular Columns"
      ]
    },
    {
      "cell_type": "code",
      "execution_count": null,
      "id": "8cfdb450",
      "metadata": {
        "id": "8cfdb450"
      },
      "outputs": [],
      "source": [
        "cursor.execute(\"Select subject from studentinfo\")\n",
        "#### Fetch All\n",
        "cursor.fetchall()"
      ]
    },
    {
      "cell_type": "code",
      "execution_count": null,
      "id": "af1b03bb",
      "metadata": {
        "id": "af1b03bb"
      },
      "outputs": [],
      "source": [
        "## Select Distinct Columns\n",
        "cursor.execute(\"SELECT DISTINCT subject from studentinfo\")\n",
        "#### Fetch All\n",
        "cursor.fetchall()"
      ]
    },
    {
      "cell_type": "code",
      "execution_count": null,
      "id": "bd8cbeaa",
      "metadata": {
        "id": "bd8cbeaa"
      },
      "outputs": [],
      "source": [
        "cursor.execute(\"SELECT name, subject FROM studentinfo WHERE name = 'Krish' OR subject = 'Data Science'\") \n",
        "#### Fetch All\n",
        "cursor.fetchall()"
      ]
    },
    {
      "cell_type": "markdown",
      "id": "c5504be9",
      "metadata": {
        "id": "c5504be9"
      },
      "source": [
        "## Drop Table"
      ]
    },
    {
      "cell_type": "code",
      "execution_count": null,
      "id": "3a934af2",
      "metadata": {
        "id": "3a934af2"
      },
      "outputs": [],
      "source": [
        "cursor.execute(\"DROP TABLE studentinfo\") "
      ]
    }
  ],
  "metadata": {
    "kernelspec": {
      "display_name": "Python 3",
      "language": "python",
      "name": "python3"
    },
    "language_info": {
      "codemirror_mode": {
        "name": "ipython",
        "version": 3
      },
      "file_extension": ".py",
      "mimetype": "text/x-python",
      "name": "python",
      "nbconvert_exporter": "python",
      "pygments_lexer": "ipython3",
      "version": "3.8.8"
    },
    "toc": {
      "base_numbering": 1,
      "nav_menu": {},
      "number_sections": true,
      "sideBar": true,
      "skip_h1_title": false,
      "title_cell": "Table of Contents",
      "title_sidebar": "Contents",
      "toc_cell": false,
      "toc_position": {},
      "toc_section_display": true,
      "toc_window_display": false
    },
    "varInspector": {
      "cols": {
        "lenName": 16,
        "lenType": 16,
        "lenVar": 40
      },
      "kernels_config": {
        "python": {
          "delete_cmd_postfix": "",
          "delete_cmd_prefix": "del ",
          "library": "var_list.py",
          "varRefreshCmd": "print(var_dic_list())"
        },
        "r": {
          "delete_cmd_postfix": ") ",
          "delete_cmd_prefix": "rm(",
          "library": "var_list.r",
          "varRefreshCmd": "cat(var_dic_list()) "
        }
      },
      "types_to_exclude": [
        "module",
        "function",
        "builtin_function_or_method",
        "instance",
        "_Feature"
      ],
      "window_display": false
    },
    "colab": {
      "name": "2. Creating Tables And Inserting Records.ipynb",
      "provenance": [],
      "include_colab_link": true
    }
  },
  "nbformat": 4,
  "nbformat_minor": 5
}